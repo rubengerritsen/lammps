{
 "cells": [
  {
   "cell_type": "markdown",
   "id": "183ea513",
   "metadata": {},
   "source": [
    "# Electronic Spectroscopy with VOTCA and LAMMPS\n",
    "\n",
    "In this tutorial we will determine the solvatochromic shifts in the spectrum of acetone in water using LAMMPS and VOTCA-XTP."
   ]
  },
  {
   "cell_type": "markdown",
   "id": "92fd031f",
   "metadata": {},
   "source": [
    "## Before we start\n",
    "\n",
    "VOTCA has a command line interface, but no python interface (yet!). We don't use jupyter for its python capabilities in this tutorial, but for its ability to show and run commands with comments in Markdown. Some things you need to know\n",
    "\n",
    "* The exclamation mark (`!`) runs the cell as a Linux/Unix command in the terminal, hence all lines starting with `!` are not python, but shell commands and can also be run in the terminal directly.\n",
    "* VOTCA requires certain environment variables to be set. This is done with the `VOTCARC.bash` or `VOTCARC.csh` script in the `bin` directory of VOTCA. It needs to be sourced before the jupyter notebook server is started or any VOTCA related commands are executed in the terminal. As an example: suppose VOTCA is installed in `/home/user/Software/votca`, then to set all environment variables and start jupyter run\n",
    "```bash\n",
    "source /home/user/Software/votca/bin/VOTCARC.bash\n",
    "jupyter notebook\n",
    "```\n",
    "\n",
    "### Testing the environment\n",
    "To check if the environment variables are set correctly, we will execute the `xtp_tools` command with the help flag `-h`. The output should be the VOTCA banner and a list of allowed options. If you get something else make sure you sourced the `VOTCARC` script."
   ]
  },
  {
   "cell_type": "code",
   "execution_count": 2,
   "id": "ac262562",
   "metadata": {
    "scrolled": false
   },
   "outputs": [
    {
     "name": "stdout",
     "output_type": "stream",
     "text": [
      "==================================================\r\n",
      "========   VOTCA (http://www.votca.org)   ========\r\n",
      "==================================================\r\n",
      "\r\n",
      "please submit bugs to https://github.com/votca/xtp/issues\r\n",
      "\r\n",
      "xtp_tools, version 2022-dev gitid: 1754257 (dirty) (compiled May  3 2021, 13:21:18)\r\n",
      "votca_csg, version 2022-dev gitid: 1754257 (dirty) (compiled Apr 28 2021, 11:28:58)\r\n",
      "votca_tools, version 2022-dev gitid: 1754257 (dirty) (compiled Apr 28 2021, 11:28:24)\r\n",
      "\r\n",
      "Runs excitation/charge transport tools\r\n",
      "\r\n",
      "\r\n",
      "\r\n",
      "Allowed options:\r\n",
      "  -h [ --help ]                 display this help and exit\r\n",
      "  --verbose                     be loud and noisy\r\n",
      "  --verbose1                    be very loud and noisy\r\n",
      "  -v [ --verbose2 ]             be extremly loud and noisy\r\n",
      "  -o [ --options ] arg          calculator options\r\n",
      "  -t [ --nthreads ] arg (=1)    number of threads to create\r\n",
      "\r\n",
      "Tools:\r\n",
      "  -e [ --execute ] arg        name of the tool to run\r\n",
      "  -l [ --list ]               Lists all available tools\r\n",
      "  -d [ --description ] arg    Short description of a tool\r\n",
      "  -n [ --name ] arg           Name of the job to run\r\n",
      "\r\n"
     ]
    }
   ],
   "source": [
    "!xtp_tools -h"
   ]
  },
  {
   "cell_type": "markdown",
   "id": "07a3e74c",
   "metadata": {},
   "source": [
    "## Importing the LAMMPS topology"
   ]
  },
  {
   "cell_type": "code",
   "execution_count": 5,
   "id": "642a23f6",
   "metadata": {},
   "outputs": [
    {
     "name": "stdout",
     "output_type": "stream",
     "text": [
      "/bin/bash: xtp_tools: command not found\r\n"
     ]
    }
   ],
   "source": []
  }
 ],
 "metadata": {
  "kernelspec": {
   "display_name": "Python 3 (ipykernel)",
   "language": "python",
   "name": "python3"
  },
  "language_info": {
   "codemirror_mode": {
    "name": "ipython",
    "version": 3
   },
   "file_extension": ".py",
   "mimetype": "text/x-python",
   "name": "python",
   "nbconvert_exporter": "python",
   "pygments_lexer": "ipython3",
   "version": "3.8.10"
  }
 },
 "nbformat": 4,
 "nbformat_minor": 5
}
