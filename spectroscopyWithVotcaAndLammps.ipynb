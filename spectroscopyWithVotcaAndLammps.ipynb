{
 "cells": [
  {
   "cell_type": "markdown",
   "id": "183ea513",
   "metadata": {},
   "source": [
    "# Electronic Spectroscopy with VOTCA and LAMMPS\n",
    "\n",
    "In this tutorial we will investigate the solvatochromic shift in the spectrum of acetone in water using LAMMPS and VOTCA."
   ]
  },
  {
   "cell_type": "markdown",
   "id": "92fd031f",
   "metadata": {},
   "source": [
    "## Before we start\n",
    "\n",
    "VOTCA has a command line interface, but no python interface (yet!). We don't use jupyter for its python capabilities in this tutorial, but for its ability to show and run commands with comments in Markdown. Some things you need to know\n",
    "\n",
    "* The exclamation mark (`!`) runs the cell as a Linux/Unix command in the terminal, hence all lines starting with `!` are not python, but shell commands and can also be run in the terminal (or docker container) directly.\n",
    "* VOTCA requires certain environment variables to be set. This is done with the `VOTCARC.bash` or `VOTCARC.csh` script in the `bin` directory of VOTCA. It needs to be sourced before the jupyter notebook server is started or any VOTCA related commands are executed in the terminal. As an example: suppose VOTCA is installed in `/home/user/Software/votca`, then to set all environment variables and start jupyter run\n",
    "```bash\n",
    "source /home/user/Software/votca/bin/VOTCARC.bash\n",
    "jupyter notebook\n",
    "```\n",
    "In the docker container you only need to run\n",
    "```bash\n",
    "source VOTCARC.bash\n",
    "```\n",
    "\n",
    "### Testing the environment\n",
    "To check if the environment variables are set correctly, we will execute the `xtp_tools` command with the help flag `-h`. The output should be the VOTCA banner and a list of allowed options. If you get something else make sure you sourced the `VOTCARC` script."
   ]
  },
  {
   "cell_type": "code",
   "execution_count": 4,
   "id": "ac262562",
   "metadata": {
    "scrolled": false
   },
   "outputs": [
    {
     "name": "stdout",
     "output_type": "stream",
     "text": [
      "==================================================\r\n",
      "========   VOTCA (http://www.votca.org)   ========\r\n",
      "==================================================\r\n",
      "\r\n",
      "please submit bugs to https://github.com/votca/xtp/issues\r\n",
      "\r\n",
      "xtp_tools, version 2022-dev gitid: bb12c18 (compiled Aug 10 2021, 12:24:35)\r\n",
      "votca_csg, version 2022-dev gitid: bb12c18 (compiled Aug 10 2021, 12:20:31)\r\n",
      "votca_tools, version 2022-dev gitid: bb12c18 (compiled Aug 10 2021, 12:20:05)\r\n",
      "\r\n",
      "Runs excitation/charge transport tools\r\n",
      "\r\n",
      "\r\n",
      "\r\n",
      "Allowed options:\r\n",
      "  -h [ --help ]                 display this help and exit\r\n",
      "  --verbose                     be loud and noisy\r\n",
      "  --verbose1                    be very loud and noisy\r\n",
      "  -v [ --verbose2 ]             be extremly loud and noisy\r\n",
      "  -o [ --options ] arg          Tool user options.\r\n",
      "  -t [ --nthreads ] arg (=1)    number of threads to create\r\n",
      "  -e [ --execute ] arg        Name of Tool to run\r\n",
      "  -l [ --list ]               Lists all available Tools\r\n",
      "  -d [ --description ] arg    Short description of a Tools\r\n",
      "  -c [ --cmdoptions ] arg     Modify options via command line by e.g. '-c \r\n",
      "                              xmltag.subtag=value'. Use whitespace to separate \r\n",
      "                              multiple options\r\n",
      "  -p [ --printoptions ] arg   Prints xml options of a Tool\r\n",
      "\r\n"
     ]
    }
   ],
   "source": [
    "!xtp_tools -h"
   ]
  },
  {
   "cell_type": "markdown",
   "id": "07a3e74c",
   "metadata": {},
   "source": [
    "## Creating the topology and parametrizing the model\n",
    "\n",
    "As a starting point for the QM/MM calculations we need a topology (i.e. the layout of the system). This topology is not just a snap shot of an MD trajectory, eventhough it is a major part of it. Besides the MD trajectory, we need information about\n",
    "\n",
    "1. The ground state geometry of the molecules,\n",
    "2. The multipole representation of the molecules and\n",
    "3. Information about the polarizabililty of the molecules.\n",
    "\n",
    "This information can be obtained in different ways. For this tutorial we have chosen to use the ORCA dft package, for which VOTCA has an interface.  The necessary files and the ORCA input files that generated them can be found in the `DFT_ORCA` folder. \n",
    "\n",
    "### 1. Getting the ground state geometry of a single molecule\n",
    "\n",
    "To compute the ground state geometry, a DFT optimization calculation needs to be performed. In this tutorial we have done this with ORCA. The input files and optimized geometry can be found in the `DFT_ORCA` folder.\n",
    "\n",
    "### 2. The multipole representation: converting the ORCA files to VOTCA input files\n",
    "\n",
    "To get the multipole representation of the molecules we use partial charges computed with the CHELPG scheme of ORCA. We need to convert the ORCA CHELPG output to VOTCA multipole files (.mps). This is done with the following command. \n"
   ]
  },
  {
   "cell_type": "code",
   "execution_count": 5,
   "id": "642a23f6",
   "metadata": {},
   "outputs": [
    {
     "name": "stdout",
     "output_type": "stream",
     "text": [
      "==================================================\r\n",
      "========   VOTCA (http://www.votca.org)   ========\r\n",
      "==================================================\r\n",
      "\r\n",
      "please submit bugs to https://github.com/votca/xtp/issues\r\n",
      "\r\n",
      "xtp_tools, version 2022-dev gitid: bb12c18 (compiled Aug 10 2021, 12:24:35)\r\n",
      "votca_csg, version 2022-dev gitid: bb12c18 (compiled Aug 10 2021, 12:20:31)\r\n",
      "votca_tools, version 2022-dev gitid: bb12c18 (compiled Aug 10 2021, 12:20:05)\r\n",
      "\r\n",
      "Initializing tool\r\n",
      "... log2mps \r\n",
      "... ... DFT_ORCA/water/chelpg.log => MP_FILES/water_n.mps\r\n",
      "Evaluating tool\r\n",
      "... log2mps  Using 1 threads\r\n",
      "... ... Using package <orca>\r\n",
      "... ... Parsing DFT_ORCA/water/chelpg.log\r\n",
      "... ... Getting the coordinates\r\n",
      "... ... Getting charges\r\n",
      "... ... Getting charges\r\n",
      "... ... 3 QM atoms, total charge Q = 0"
     ]
    }
   ],
   "source": [
    "!xtp_tools -e log2mps -o OPTIONS/log2mps_water.xml"
   ]
  },
  {
   "cell_type": "markdown",
   "id": "a4158e20",
   "metadata": {},
   "source": [
    "The previous command shows the general structure of running a program, which is always the same\n",
    "\n",
    "```bash\n",
    "xtp_<executableType> -e <whichCalculationToRun> -o <optionsFile> ...\n",
    "```\n",
    "\n",
    "The `executableType` indicates what type of executable is used. VOTCA has different executable types based on the kind of calculation, is the calculaton based on an MD topology, does it need parallelization support etc. We will see the different types shortly.\n",
    "\n",
    "`whichCalculationToRun` indicates what should be done, a DFT-GWBSE calculation, a file conversion etc. Finally the `optionsFile` is the file with all the input options. \n",
    "\n",
    "Lets look at the `log2mps_water.xml` option file\n",
    "\n",
    "```xml\n",
    "<options>\n",
    "\t<log2mps>\n",
    "\t\t<dftpackage>orca</dftpackage>\n",
    "\t\t<input>DFT_ORCA/water/chelpg.log</input>\n",
    "\t\t<output>MP_FILES/water_n.mps</output>\n",
    "\t</log2mps>\n",
    "</options>\n",
    "```\n",
    "\n",
    "We see that there are three options to set. The input file (which is the orca output log in this case), the name of the output file and which DFT package was used to do the calculation.\n",
    "\n",
    "### How to find out which options are available?\n",
    "\n",
    "There are two ways to find out which options are available for a tool. Every tool has its own description, you can get it for the `log2mps` tool by running the following command (where `-d` means describe)."
   ]
  },
  {
   "cell_type": "code",
   "execution_count": 6,
   "id": "1e56653a",
   "metadata": {},
   "outputs": [
    {
     "name": "stdout",
     "output_type": "stream",
     "text": [
      " \u001b[0;35mlog2mps:   \u001b[0;31mGenerates an mps-file (with polar-site definitions) from a QM log-file\u001b[0;39m\r\n",
      "   OPTION      \u001b[0;34mDEFAULT\u001b[0;32m    UNIT           \u001b[0;39mDESCRIPTION\r\n",
      "   job_name    \u001b[0;34m(system)\u001b[0;32m                  \u001b[0;39mInput file name without extension, also used for intermediate files\r\n",
      "   dftpackage  \u001b[0;34m(orca)\u001b[0;32m                    \u001b[0;39mQM package name\r\n",
      "   input       \u001b[0;34m(OPTIONAL)\u001b[0;32m                \u001b[0;39mdftpackage log file to read from, otherwise use job_name\r\n",
      "   output      \u001b[0;34m(OPTIONAL)\u001b[0;32m                \u001b[0;39mMPs file with charges, if not given use job_name\r\n",
      "Done - stopping here\r\n"
     ]
    }
   ],
   "source": [
    "!xtp_tools -d log2mps"
   ]
  },
  {
   "cell_type": "markdown",
   "id": "d158660e",
   "metadata": {},
   "source": [
    "Alternatively you can generate a starting xml file (with help messages) using `xtp_tools -p <tool_name> -o <output>.xml`, which you can manually edit to fit your needs. This file will contain all available options, mandatory and optional. For `log2mps` it can be generated and viewed with the following commands. Note that the result is much better when the option file is viewed in an editor with syntax highlighting (VS code for example)."
   ]
  },
  {
   "cell_type": "code",
   "execution_count": 7,
   "id": "84fef06a",
   "metadata": {},
   "outputs": [
    {
     "name": "stdout",
     "output_type": "stream",
     "text": [
      "Writing options for calculator log2mps to temp_log2mpsOptions.xml\n",
      "Done - stopping here\n",
      "**************\n",
      "<options>\n",
      "<log2mps help=\"Generates an mps-file (with polar-site definitions) from a QM log-file\" label=\"tool:log2mps\">\n",
      "\t<job_name default=\"system\" help=\"Input file name without extension, also used for intermediate files\">system</job_name>\n",
      "\t<dftpackage choices=\"orca\" default=\"orca\" help=\"QM package name\">orca</dftpackage>\n",
      "\t<input default=\"OPTIONAL\" help=\"dftpackage log file to read from, otherwise use job_name\"/>\n",
      "\t<output default=\"OPTIONAL\" help=\"MPs file with charges, if not given use job_name\"/>\n",
      "</log2mps>\n",
      "</options>\n",
      "\n"
     ]
    }
   ],
   "source": [
    "!xtp_tools -p log2mps -o temp_log2mpsOptions.xml\n",
    "!echo \"**************\"\n",
    "!cat temp_log2mpsOptions.xml"
   ]
  },
  {
   "cell_type": "markdown",
   "id": "3c08d695",
   "metadata": {},
   "source": [
    "### The result of `log2mps`\n",
    "\n",
    "The result of `log2mps` is an mps file, for water it will look like\n",
    "\n",
    "```text\n",
    "! GENERATED BY VOTCA::XTP::::LOG2MPS (log-file='../DFT_ORCA/water/chelpg.log' : 3 QM atoms)\n",
    "! N=3 Q[e]=+0.0000000\n",
    "Units angstrom\n",
    "  O +0.0000000 +0.0000000 -0.0043320 Rank 0\n",
    "    -0.7585550\n",
    "     P +0.8370000\n",
    "  H +0.7614610 +0.0000000 +0.5795250 Rank 0\n",
    "    +0.3787500\n",
    "     P +0.4960000\n",
    "  H -0.7614610 +0.0000000 +0.5795250 Rank 0\n",
    "    +0.3798050\n",
    "     P +0.4960000\n",
    "```\n",
    "\n",
    "We see the atom positions, followed by their partial charge (rank 0, for higher ranks dipoles and quadrupoles are also specified) and the line with the `P` indicating the polarizability. But something is off with the polarizability it is just a single number. \n",
    "\n",
    "### 3. Fitting Polarizabilities\n",
    "To obtain the \"real\" polarizability we will fit the atomic polarizabilities, such that they represent the total molecular polarizability (computed with ORCA in this case) as close as possible. This is done with the `molpol` tool. Lets run the tool."
   ]
  },
  {
   "cell_type": "code",
   "execution_count": 8,
   "id": "f3763b8a",
   "metadata": {},
   "outputs": [
    {
     "name": "stdout",
     "output_type": "stream",
     "text": [
      "==================================================\r\n",
      "========   VOTCA (http://www.votca.org)   ========\r\n",
      "==================================================\r\n",
      "\r\n",
      "please submit bugs to https://github.com/votca/xtp/issues\r\n",
      "\r\n",
      "xtp_tools, version 2022-dev gitid: bb12c18 (compiled Aug 10 2021, 12:24:35)\r\n",
      "votca_csg, version 2022-dev gitid: bb12c18 (compiled Aug 10 2021, 12:20:31)\r\n",
      "votca_tools, version 2022-dev gitid: bb12c18 (compiled Aug 10 2021, 12:20:05)\r\n",
      "\r\n",
      "Initializing tool\r\n",
      "... molpol \r\n",
      " ... Using package <orca>\r\n",
      " ... Getting polarizabilityEvaluating tool\r\n",
      "... molpol  Using 1 threads\r\n",
      "Iteration 1 of 100 target:6.46783 current:9.41669\r\n",
      "\r\n",
      "Iteration 2 of 100 target:6.46783 current:6.89261\r\n",
      "\r\n",
      "Iteration 3 of 100 target:6.46783 current:6.54134\r\n",
      "\r\n",
      "Iteration 4 of 100 target:6.46783 current:6.48093\r\n",
      "\r\n",
      "Iteration 5 of 100 target:6.46783 current:6.47018\r\n",
      "\r\n",
      "Iteration 6 of 100 target:6.46783 current:6.46825\r\n",
      "\r\n",
      "... ... Iterative refinement : *CONVERGED*\r\n",
      "... ... Scaling coefficient  : -6.50073e-05\r\n",
      "First principle polarization [A^3]\r\n",
      " 1.18054        0        0\r\n",
      "       0 0.772045       -0\r\n",
      "       0       -0 0.965972\r\n",
      "Scaled classical polarization [A^3]\r\n",
      "     1.1578          -0          -0\r\n",
      "         -0    0.819334          -0\r\n",
      "-1.0327e-17          -0    0.928276\r\n",
      "EigenValues classical polarization [A^3]\r\n",
      "0.819334        0        0\r\n",
      "       0 0.928276        0\r\n",
      "       0        0   1.1578"
     ]
    }
   ],
   "source": [
    "!xtp_tools -e molpol -o OPTIONS/molpol_water.xml"
   ]
  },
  {
   "cell_type": "markdown",
   "id": "5da89d31",
   "metadata": {},
   "source": [
    "The options for this tool are the original mps file, the name of the new mps file, which package is used for the polarization calculation and where to find the logfile with the molecular polarizability information. The option file:\n",
    "```xml\n",
    "<options>\n",
    "\t<molpol>\n",
    "\t\t<input>MP_FILES/water_n.mps</input>\n",
    "\t\t<output>MP_FILES/water_n_pol.mps</output>\n",
    "\t\t<mode>qmpackage</mode>\n",
    "\t\t<qmpackage>orca</qmpackage>\n",
    "\t\t<logfile>DFT_ORCA/water/chelpg.log</logfile>\n",
    "\t</molpol>\n",
    "</options>\n",
    "```\n",
    "\n",
    "If you check the output file now, you will see that it added atomic polarizabilities."
   ]
  },
  {
   "cell_type": "code",
   "execution_count": 9,
   "id": "33c103be",
   "metadata": {},
   "outputs": [
    {
     "name": "stdout",
     "output_type": "stream",
     "text": [
      "! GENERATED BY VOTCA::XTP::MOLPOL (OPTIMIZED)\r\n",
      "! N=3 Q[e]=+0.0000000\r\n",
      "Units angstrom\r\n",
      "  O +0.0000000 +0.0000000 -0.0043320 Rank 0\r\n",
      "    -0.7585550\r\n",
      "     P +0.5320935 +0.0000000 +0.0000000 +0.5320935 +0.0000000 +0.5320935\r\n",
      "  H +0.7614610 +0.0000000 +0.5795250 Rank 0\r\n",
      "    +0.3787500\r\n",
      "     P +0.3153146 +0.0000000 +0.0000000 +0.3153146 +0.0000000 +0.3153146\r\n",
      "  H -0.7614610 +0.0000000 +0.5795250 Rank 0\r\n",
      "    +0.3798050\r\n",
      "     P +0.3153146 +0.0000000 +0.0000000 +0.3153146 +0.0000000 +0.3153146\r\n"
     ]
    }
   ],
   "source": [
    "!cat MP_FILES/water_n_pol.mps"
   ]
  },
  {
   "cell_type": "markdown",
   "id": "37d7c4c1",
   "metadata": {},
   "source": [
    "### Repeating the process for other molecules\n",
    "\n",
    "This process needs to be repeated for all molecules in the system. Generating the files for acetone for example can be done by running the following"
   ]
  },
  {
   "cell_type": "code",
   "execution_count": 10,
   "id": "fc69e72b",
   "metadata": {},
   "outputs": [
    {
     "name": "stdout",
     "output_type": "stream",
     "text": [
      "==================================================\n",
      "========   VOTCA (http://www.votca.org)   ========\n",
      "==================================================\n",
      "\n",
      "please submit bugs to https://github.com/votca/xtp/issues\n",
      "\n",
      "xtp_tools, version 2022-dev gitid: bb12c18 (compiled Aug 10 2021, 12:24:35)\n",
      "votca_csg, version 2022-dev gitid: bb12c18 (compiled Aug 10 2021, 12:20:31)\n",
      "votca_tools, version 2022-dev gitid: bb12c18 (compiled Aug 10 2021, 12:20:05)\n",
      "\n",
      "Initializing tool\n",
      "... log2mps \n",
      "... ... DFT_ORCA/acetone/chelpg.log => MP_FILES/acetone_n.mps\n",
      "Evaluating tool\n",
      "... log2mps  Using 1 threads\n",
      "... ... Using package <orca>\n",
      "... ... Parsing DFT_ORCA/acetone/chelpg.log\n",
      "... ... Getting the coordinates\n",
      "... ... Getting charges\n",
      "... ... Getting charges\n",
      "... ... 10 QM atoms, total charge Q = 1e-06 \n",
      "==================================================\n",
      "========   VOTCA (http://www.votca.org)   ========\n",
      "==================================================\n",
      "\n",
      "please submit bugs to https://github.com/votca/xtp/issues\n",
      "\n",
      "xtp_tools, version 2022-dev gitid: bb12c18 (compiled Aug 10 2021, 12:24:35)\n",
      "votca_csg, version 2022-dev gitid: bb12c18 (compiled Aug 10 2021, 12:20:31)\n",
      "votca_tools, version 2022-dev gitid: bb12c18 (compiled Aug 10 2021, 12:20:05)\n",
      "\n",
      "Initializing tool\n",
      "... molpol \n",
      " ... Using package <orca>\n",
      " ... Getting polarizabilityEvaluating tool\n",
      "... molpol  Using 1 threads\n",
      "Iteration 1 of 100 target:39.0864 current:39.8784\n",
      "\n",
      "Iteration 2 of 100 target:39.0864 current:39.2629\n",
      "\n",
      "Iteration 3 of 100 target:39.0864 current:39.126\n",
      "\n",
      "Iteration 4 of 100 target:39.0864 current:39.0953\n",
      "\n",
      "Iteration 5 of 100 target:39.0864 current:39.0884\n",
      "\n",
      "... ... Iterative refinement : *CONVERGED*\n",
      "... ... Scaling coefficient  : -5.10709e-05\n",
      "First principle polarization [A^3]\n",
      "  5.75433  0.843616  0.267156\n",
      " 0.843616   5.56017 -0.242733\n",
      " 0.267156 -0.242733   6.23821\n",
      "Scaled classical polarization [A^3]\n",
      "   5.5262  0.454485  0.164229\n",
      " 0.454485   5.46775 -0.320004\n",
      " 0.164229 -0.320004   6.50124\n",
      "EigenValues classical polarization [A^3]\n",
      "4.96331       0       0\n",
      "      0 5.93829       0\n",
      "      0       0 6.59359"
     ]
    }
   ],
   "source": [
    "!xtp_tools -e log2mps -o OPTIONS/log2mps_acetone.xml\n",
    "!echo \" \" # we only need it to clearly separate the two commands\n",
    "!xtp_tools -e molpol -o OPTIONS/molpol_acetone.xml"
   ]
  },
  {
   "cell_type": "markdown",
   "id": "3e92433e",
   "metadata": {},
   "source": [
    "## Putting everything together (mapping)"
   ]
  },
  {
   "cell_type": "markdown",
   "id": "f0031e81",
   "metadata": {},
   "source": [
    "We now have all the input files we need. To combine them with the snap shot of the MD trajectory we need to perform a mapping. For this mapping we need to create an input file, the *mapping file*. This file tells VOTCA which geometry to use for different types of calculations. As an example, for a QM calculation on acetone we can't use the distorted MD geometry, because it won't be close to the ground state geometry of the molecule and hence give a weird energy value. Hence we need to replace the MD geometry by the QM groundstate geometry. To use the QM geometry for the QM calculation we map the QM geometry of the molecule on the MD geometry.\n",
    "\n",
    "The mapping file itself looks quite complicated so we start by looking only at a small part that will give us the main idea.\n",
    "\n",
    "Suppose we want to map the ground state geometry of water onto the MD trajectory, we would at lease need the following input\n",
    "\n",
    "```xml\n",
    "<mdatoms>2:O76:10 2:H77:11 2:H77:12</mdatoms>\n",
    "<qmatoms>0:O 1:H 2:H</qmatoms>\n",
    "<localframe>0 1 2</localframe>\n",
    "```\n",
    "\n",
    "where `mdatoms` is the order of the MD geometry in the MD trajectory (.traj from LAMMPS) and `qmatoms` gives the order in which the QM geometry (.xyz file from ORCA/VOTCA or other package) should be mapped to the MD geometry. Hence the first MD atom is mapped to the first QM atom etc. The colon `:` notation is used to provide a bit more info. In the `qmatoms` tags we have `atomID:atomType` in the `mdatoms` tag we have `resID:atomType:atomID`. The `localframe` is then used to specify the atoms on which we base the mapping (i.e. the positions that are used to compute the rotation matrix and translation between the MD and QM geometries).\n"
   ]
  },
  {
   "cell_type": "markdown",
   "id": "0bb02d6e",
   "metadata": {},
   "source": [
    "What follows is a more complete mapping file. \n",
    "\n",
    "```xml\n",
    "<molecule>\n",
    "    <mdname>C3H6O1</mdname>\n",
    "    <segments>\n",
    "        <segment>\n",
    "            <name>ACETONE</name>\n",
    "            <qmcoords_n>DFT_ORCA/acetone/acetoneOpt.xyz</qmcoords_n>\n",
    "            <qmcoords_e>DFT_ORCA/acetone/acetoneOpt.xyz</qmcoords_e>\n",
    "            <qmcoords_h>DFT_ORCA/acetone/acetoneOpt.xyz</qmcoords_h>\n",
    "            <multipoles_n>MP_FILES/acetone_n_pol.mps</multipoles_n>\n",
    "            <map2md>0</map2md>\n",
    "            <fragments>\n",
    "                <fragment>\n",
    "                <name>acetone</name>\n",
    "                <mdatoms>1:O223:0 1:C222:1 1:C80:2 1:C80:3 1:H85:4 1:H85:5 1:H85:6 1:H85:7 1:H85:8\n",
    "                , → 1:H85:9</mdatoms>\n",
    "                <qmatoms>0:O 1:C 2:C 3:C 4:H 5:H 6:H 7:H 8:H 9:H</qmatoms>\n",
    "                <mpoles>0:O 1:C 2:C 3:C 4:H 5:H 6:H 7:H 8:H 9:H</mpoles>\n",
    "                <weights>16 12 12 12 1 1 1 1 1 1</weights>\n",
    "                <localframe>0 1 3</localframe>\n",
    "                </fragment>\n",
    "            </fragments>\n",
    "        </segment>\n",
    "    </segments>\n",
    "</molecule>\n",
    "```\n",
    "\n",
    "Under the tags `qmcoords_x` and `multipoles_x` we can specify the different files with the geometries for the multipole expansion and qm calculations. The `x` can be any of `n,e,h` which is mostly relevant for charge transport where we might also want to use different geometries for hole (cation, h), electron (anion, e) and ground states (n)."
   ]
  },
  {
   "cell_type": "raw",
   "id": "a7ccb7ee",
   "metadata": {},
   "source": [
    "To run the mapping procedure, run"
   ]
  },
  {
   "cell_type": "code",
   "execution_count": 11,
   "id": "43fbc97d",
   "metadata": {},
   "outputs": [
    {
     "name": "stdout",
     "output_type": "stream",
     "text": [
      "==================================================\n",
      "========   VOTCA (http://www.votca.org)   ========\n",
      "==================================================\n",
      "\n",
      "please submit bugs to https://github.com/votca/xtp/issues\n",
      "\n",
      "xtp_map, version 2022-dev gitid: bb12c18 (compiled Aug 10 2021, 12:24:35)\n",
      "votca_csg, version 2022-dev gitid: bb12c18 (compiled Aug 10 2021, 12:20:31)\n",
      "votca_tools, version 2022-dev gitid: bb12c18 (compiled Aug 10 2021, 12:20:05)\n",
      "\n",
      "\n",
      "WARNING: The votca lammps data reader is only able to read lammps files formatted in the following styles:\n",
      "angle\n",
      "atom\n",
      "bond\n",
      "full\n",
      "molecule\n",
      "\n",
      "These styles use the following formats in the atom block:\n",
      "atom-ID molecule-ID atom-type charge x y z\n",
      "atom-ID molecule-ID atom-type charge x y z nx ny nz\n",
      "atom-ID molecule-ID atom-type x y z\n",
      "atom-ID molecule-ID atom-type x y z nx ny nz\n",
      "atom-ID atom-type x y z\n",
      "atom-ID atom-type x y z nx ny nz\n",
      "\n",
      "Unable to associate mass 15.035 with element assuming pseudo atom, assigning name Bead6 .\n",
      "Unable to associate mass 15.035 with element assuming pseudo atom, assigning name Bead9 .\n",
      "Unable to associate mass 15.035 with element assuming pseudo atom, assigning name Bead10 .\n",
      "Unable to associate mass 15.035 with element assuming pseudo atom, assigning name Bead11 .\n",
      "Unable to associate mass 15.035 with element assuming pseudo atom, assigning name Bead12 .\n",
      "Unable to associate mass 13.019 with element assuming pseudo atom, assigning name Bead15 .\n",
      "Unable to associate mass 13.019 with element assuming pseudo atom, assigning name Bead16 .\n",
      "Unable to associate mass 13.019 with element assuming pseudo atom, assigning name Bead17 .\n",
      "Unable to associate mass 15.035 with element assuming pseudo atom, assigning name Bead22 .\n",
      "Unable to associate mass 15.035 with element assuming pseudo atom, assigning name Bead30 .\n",
      "Unable to associate mass 15.035 with element assuming pseudo atom, assigning name Bead32 .\n",
      "Unable to associate mass 15.035 with element assuming pseudo atom, assigning name Bead34 .\n",
      "Unable to associate mass 15.035 with element assuming pseudo atom, assigning name Bead38 .\n",
      "Unable to associate mass 13.019 with element assuming pseudo atom, assigning name Bead39 .\n",
      "Unable to associate mass 15.035 with element assuming pseudo atom, assigning name Bead42 .\n",
      "Unable to associate mass 15.035 with element assuming pseudo atom, assigning name Bead52 .\n",
      "Unable to associate mass 15.035 with element assuming pseudo atom, assigning name Bead56 .\n",
      "Unable to associate mass 1e-30 with element assuming pseudo atom, assigning name Bead67 .\n",
      "Unable to associate mass 1e-30 with element assuming pseudo atom, assigning name Bead72 .\n",
      "Unable to associate mass 1e-30 with element assuming pseudo atom, assigning name Bead75 .\n",
      "Unable to associate mass 15.035 with element assuming pseudo atom, assigning name Bead339 .\n",
      "Unable to associate mass 18.039 with element assuming pseudo atom, assigning name Bead347 .\n",
      "Unable to associate mass 1e-30 with element assuming pseudo atom, assigning name Bead375 .\n",
      "Unable to associate mass 238.029 with element assuming pseudo atom, assigning name Bead378 .\n",
      "Unable to associate mass 227.0 with element assuming pseudo atom, assigning name Bead638 .\n",
      "Unable to associate mass 232.038 with element assuming pseudo atom, assigning name Bead639 .\n",
      "Unable to associate mass 243.0 with element assuming pseudo atom, assigning name Bead640 .\n",
      "Unable to associate mass 138.906 with element assuming pseudo atom, assigning name Bead644 .\n",
      "Unable to associate mass 144.24 with element assuming pseudo atom, assigning name Bead645 .\n",
      "Unable to associate mass 151.96 with element assuming pseudo atom, assigning name Bead646 .\n",
      "Unable to associate mass 157.25 with element assuming pseudo atom, assigning name Bead647 .\n",
      "Unable to associate mass 173.04 with element assuming pseudo atom, assigning name Bead648 .\n",
      "Unable to associate mass 1e-30 with element assuming pseudo atom, assigning name Bead834 .\n",
      "\n",
      "WARNING Impropers are not currently supported, skipping.\n",
      "\n",
      "Reading frame, timestep 798500\n",
      "Creating statefile state.hdf5\n",
      "Frame with id 798500 was not in statefile state.hdf5 ,adding it now.\n",
      "Wrote MD topology (step = 798500, time = 0) to state.hdf5\n",
      "... . \n",
      "Reading frame, timestep 799000\n"
     ]
    }
   ],
   "source": [
    "!xtp_map -t LAMMPS/system.data -c LAMMPS/traj1.dump -s OPTIONS/mapping.xml -f state.hdf5"
   ]
  },
  {
   "cell_type": "markdown",
   "id": "b7b268ee",
   "metadata": {},
   "source": [
    "This command will create a VOTCA state file based on the LAMMPS trajectory and system data and the mapping file. The state file is standard HDF5 and can be inspected with an HDF5 viewer like `Silx`. To check what the mapping procedure actually did we can generate QM and MD pdb files that we can compare in VMD. To generate the pdb file"
   ]
  },
  {
   "cell_type": "code",
   "execution_count": 13,
   "id": "36c1cafa",
   "metadata": {},
   "outputs": [
    {
     "name": "stdout",
     "output_type": "stream",
     "text": [
      "==================================================\n",
      "========   VOTCA (http://www.votca.org)   ========\n",
      "==================================================\n",
      "\n",
      "please submit bugs to https://github.com/votca/xtp/issues\n",
      "\n",
      "xtp_run, version 2022-dev gitid: bb12c18 (compiled Aug 10 2021, 12:24:35)\n",
      "votca_csg, version 2022-dev gitid: bb12c18 (compiled Aug 10 2021, 12:20:31)\n",
      "votca_tools, version 2022-dev gitid: bb12c18 (compiled Aug 10 2021, 12:20:05)\n",
      "\n",
      "Initializing calculator\n",
      "... mapchecker\n",
      "1 frames in statefile, Ids are: 798500 \n",
      "Starting at frame 798500\n",
      "Evaluating frame 798500\n",
      "Import MD Topology (i.e. frame 798500) from state.hdf5\n",
      ".... \n",
      "... mapchecker\n",
      " Using 1 threads\n",
      "Writing segments to md_segments_step_798500.pdb\n",
      "Writing qmmolecules to qm_segments_n_step_798500.pdb\n",
      "Changes have not been written to state file.\n"
     ]
    }
   ],
   "source": [
    "!xtp_run -e mapchecker -o OPTIONS/mapchecker.xml -f state.hdf5"
   ]
  },
  {
   "cell_type": "markdown",
   "id": "64068f10",
   "metadata": {},
   "source": [
    "To visualize the result start VMD and load the `md_segments_step_798500.pdb` and `qm_segments_step_798500.pdb` files as separate molecules. You will see for every molecule the MD geometry and mapped onto it the QM geometry. If there are any large differences, you might need to pick a better `localframe`."
   ]
  },
  {
   "cell_type": "markdown",
   "id": "2f124483",
   "metadata": {},
   "source": [
    "# Setup the QM/MM jobfile and run the calculation"
   ]
  },
  {
   "cell_type": "markdown",
   "id": "8cff683e",
   "metadata": {},
   "source": [
    "The next step is to specify for which molecules and we want to perform the QM/MM calculation and which molecules are part of the QM and MM region. What follows is part of the `qmmm.xml` option file:\n",
    "\n",
    "```xml\n",
    "<qmmm>\n",
    "  <io_jobfile>\n",
    "    <states>n s1</states>\n",
    "    <segments>0</segments>\n",
    "    <use_gs_for_ex>true</use_gs_for_ex>\n",
    "  </io_jobfile>\n",
    "  <regions>\n",
    "    <qmregion>\n",
    "      <id>0</id>\n",
    "      <state>jobfile</state>\n",
    "      <segments>0:n</segments>\n",
    "      .\n",
    "      .\n",
    "    </qmregion>\n",
    "    <polarregion>\n",
    "      <id>1</id>\n",
    "      <cutoff>\n",
    "        <geometry>n</geometry>\n",
    "        <radius>0.9</radius>\n",
    "      </cutoff>\n",
    "    </polarregion>\n",
    "  </regions>\n",
    "</qmmm>\n",
    "```\n",
    "\n",
    "Within the `io_jobfile` tag we find the information about which atoms to include in our calculation. In this case we want a groundstate `n` and first singlet level `s1` calculation on the first segment `0` (the acetone molecule) and we use the ground state density for excited state calculations (it is possible to provide a different geometry). Next in the `regions` section we find how the QM and MM region are specified. Region `0` is a qm region, the state of the calculation is based on the jobfile, hence it will be `n` since that is what we provided in the `io_jobfile` tag. The second region `1` is a polar region and is based on a cutoff in this case with a radius of 0.9nm. Which means that all water molecules in a ball with radius 0.9nm around the zeroth segment (the acetone molecule) are included in the calculation.\n",
    "\n",
    "Now that we have the input file, we can generate the jobfile and run the calculations."
   ]
  },
  {
   "cell_type": "code",
   "execution_count": null,
   "id": "ab8e6de6",
   "metadata": {},
   "outputs": [],
   "source": [
    "!xtp_parallel -e qmmm -o OPTIONS/qmmm.xml -f state.hdf5 -j \"write\""
   ]
  },
  {
   "cell_type": "code",
   "execution_count": null,
   "id": "38a71b36",
   "metadata": {},
   "outputs": [],
   "source": [
    "!xtp_parallel -e qmmm -o OPTIONS/qmmm.xml -f state.hdf5 -j \"run\" -x 4"
   ]
  },
  {
   "cell_type": "markdown",
   "id": "d7889c7e",
   "metadata": {},
   "source": [
    "# Results"
   ]
  },
  {
   "cell_type": "markdown",
   "id": "8e9f1483",
   "metadata": {},
   "source": [
    "The results are stored in the `qmmm_jobs.xml` file. What follows is an example part\n",
    "\n",
    "```xml\n",
    "<output>\n",
    "  <regions>\n",
    "    <region Tot_charge=\"-3.200000e+01\" id=\"0\" size=\"1\" type=\"qmregion\">\n",
    "      <E_total>-5252.342575</E_total>\n",
    "    </region>\n",
    "    <region Tot_charge=\"0.000000e+00\" id=\"1\" size=\"101\" type=\"polarregion\">\n",
    "      <E_static>-30.978427</E_static>\n",
    "      <E_polar>-9.246523</E_polar>\n",
    "      <E_total>-40.224950</E_total>\n",
    "    </region>\n",
    "  </regions>\n",
    "  <E_tot>-5292.567526</E_tot>\n",
    "  <Compute_Time>24</Compute_Time>\n",
    "  <Total_Charge>-32.000000</Total_Charge>\n",
    "  <Iterations>4</Iterations>\n",
    "</output>\n",
    "```\n",
    "\n",
    "We see here the different energies of the regions and the total energy. Note that this is just a single calculation. These QM/MM calculation only make sense when one look at differences. To get the correct singlet energy for example one needs to subtract the ground state energy from the singlet energy, to obtain the correct number. "
   ]
  }
 ],
 "metadata": {
  "kernelspec": {
   "display_name": "Python 3 (ipykernel)",
   "language": "python",
   "name": "python3"
  },
  "language_info": {
   "codemirror_mode": {
    "name": "ipython",
    "version": 3
   },
   "file_extension": ".py",
   "mimetype": "text/x-python",
   "name": "python",
   "nbconvert_exporter": "python",
   "pygments_lexer": "ipython3",
   "version": "3.8.10"
  }
 },
 "nbformat": 4,
 "nbformat_minor": 5
}
