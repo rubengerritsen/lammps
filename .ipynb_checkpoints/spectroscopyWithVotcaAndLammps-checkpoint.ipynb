{
 "cells": [
  {
   "cell_type": "markdown",
   "id": "183ea513",
   "metadata": {},
   "source": [
    "# Electronic Spectroscopy with VOTCA and LAMMPS\n",
    "\n",
    "In this tutorial we will investigate the solvatochromic shift in the spectrum of acetone in water using LAMMPS and VOTCA."
   ]
  },
  {
   "cell_type": "markdown",
   "id": "92fd031f",
   "metadata": {},
   "source": [
    "## Before we start\n",
    "\n",
    "VOTCA has a command line interface, but no python interface (yet!). We don't use jupyter for its python capabilities in this tutorial, but for its ability to show and run commands with comments in Markdown. Some things you need to know\n",
    "\n",
    "* The exclamation mark (`!`) runs the cell as a Linux/Unix command in the terminal, hence all lines starting with `!` are not python, but shell commands and can also be run in the terminal (or docker container) directly.\n",
    "* VOTCA requires certain environment variables to be set. This is done with the `VOTCARC.bash` or `VOTCARC.csh` script in the `bin` directory of VOTCA. It needs to be sourced before the jupyter notebook server is started or any VOTCA related commands are executed in the terminal. As an example: suppose VOTCA is installed in `/home/user/Software/votca`, then to set all environment variables and start jupyter run\n",
    "```bash\n",
    "source /home/user/Software/votca/bin/VOTCARC.bash\n",
    "jupyter notebook\n",
    "```\n",
    "In the docker container you only need to run\n",
    "```bash\n",
    "source VOTCARC.bash\n",
    "```\n",
    "\n",
    "### Testing the environment\n",
    "To check if the environment variables are set correctly, we will execute the `xtp_tools` command with the help flag `-h`. The output should be the VOTCA banner and a list of allowed options. If you get something else make sure you sourced the `VOTCARC` script."
   ]
  },
  {
   "cell_type": "code",
   "execution_count": 2,
   "id": "ac262562",
   "metadata": {
    "scrolled": false
   },
   "outputs": [
    {
     "name": "stdout",
     "output_type": "stream",
     "text": [
      "==================================================\r\n",
      "========   VOTCA (http://www.votca.org)   ========\r\n",
      "==================================================\r\n",
      "\r\n",
      "please submit bugs to https://github.com/votca/xtp/issues\r\n",
      "\r\n",
      "xtp_tools, version 2022-dev gitid: 1754257 (dirty) (compiled May  3 2021, 13:21:18)\r\n",
      "votca_csg, version 2022-dev gitid: 1754257 (dirty) (compiled Apr 28 2021, 11:28:58)\r\n",
      "votca_tools, version 2022-dev gitid: 1754257 (dirty) (compiled Apr 28 2021, 11:28:24)\r\n",
      "\r\n",
      "Runs excitation/charge transport tools\r\n",
      "\r\n",
      "\r\n",
      "\r\n",
      "Allowed options:\r\n",
      "  -h [ --help ]                 display this help and exit\r\n",
      "  --verbose                     be loud and noisy\r\n",
      "  --verbose1                    be very loud and noisy\r\n",
      "  -v [ --verbose2 ]             be extremly loud and noisy\r\n",
      "  -o [ --options ] arg          calculator options\r\n",
      "  -t [ --nthreads ] arg (=1)    number of threads to create\r\n",
      "\r\n",
      "Tools:\r\n",
      "  -e [ --execute ] arg        name of the tool to run\r\n",
      "  -l [ --list ]               Lists all available tools\r\n",
      "  -d [ --description ] arg    Short description of a tool\r\n",
      "  -n [ --name ] arg           Name of the job to run\r\n",
      "\r\n"
     ]
    }
   ],
   "source": [
    "!xtp_tools -h"
   ]
  },
  {
   "cell_type": "markdown",
   "id": "07a3e74c",
   "metadata": {},
   "source": [
    "## Creating the topology and parametrizing the model\n",
    "\n",
    "As a starting point for the QM/MM calculations we need a topology (i.e. the layout of the system). This topology is not just a snap shot of an MD trajectory, eventhough it is a major part of it. Besides the MD trajectory, we need information about\n",
    "\n",
    "1. The ground state geometry of the molecules,\n",
    "2. The multipole representation of the molecules and\n",
    "3. Information about the polarizabililty of the molecules.\n",
    "\n",
    "This information can be obtained in different ways. For this tutorial we have chosen to use the ORCA dft package, for which VOTCA has an interface.  The necessary files and the ORCA input files that generated them can be found in the `DFT_ORCA` folder. \n",
    "\n",
    "### 1. Getting the ground state geometry of a single molecule\n",
    "\n",
    "To compute the ground state geometry, a DFT optimization calculation needs to be performed. In this tutorial we have done this with ORCA. The input files and optimized geometry can be found in the `DFT_ORCA` folder.\n",
    "\n",
    "### 2. The multipole representation: converting the ORCA files to VOTCA input files\n",
    "\n",
    "To get the multipole representation of the molecules we use partial charges computed with the CHELPG scheme of ORCA. We need to convert the ORCA CHELPG output to VOTCA multipole files (.mps). This is done with the following command. \n"
   ]
  },
  {
   "cell_type": "code",
   "execution_count": 2,
   "id": "642a23f6",
   "metadata": {},
   "outputs": [
    {
     "name": "stdout",
     "output_type": "stream",
     "text": [
      "==================================================\r\n",
      "========   VOTCA (http://www.votca.org)   ========\r\n",
      "==================================================\r\n",
      "\r\n",
      "please submit bugs to https://github.com/votca/xtp/issues\r\n",
      "\r\n",
      "xtp_tools, version 2022-dev gitid: 24decaf (dirty) (compiled Jul 15 2021, 09:04:09)\r\n",
      "votca_csg, version 2022-dev gitid: 24decaf (dirty) (compiled Jul 15 2021, 08:59:16)\r\n",
      "votca_tools, version 2022-dev gitid: 24decaf (dirty) (compiled Jul 15 2021, 08:58:17)\r\n",
      "\r\n",
      "Initializing tool\r\n",
      "... log2mps \r\n",
      "... ... DFT_ORCA/acetone/chelpg.log => MP_FILES/acetone_n.mps\r\n",
      "Evaluating tool\r\n",
      "... log2mps  Using 1 threads\r\n",
      "... ... Using package <orca>\r\n",
      "... ... Parsing DFT_ORCA/acetone/chelpg.log\r\n",
      "... ... Getting the coordinates\r\n",
      "... ... Getting charges\r\n",
      "... ... Getting charges\r\n",
      "... ... 10 QM atoms, total charge Q = 1e-06"
     ]
    }
   ],
   "source": [
    "!xtp_tools -e log2mps -o OPTIONS/log2mps_water.xml"
   ]
  },
  {
   "cell_type": "markdown",
   "id": "a4158e20",
   "metadata": {},
   "source": [
    "The previous command shows the general structure of running a program, which is always the same\n",
    "\n",
    "```bash\n",
    "xtp_<executableType> -e <whichCalculationToRun> -o <optionsFile> ...\n",
    "```\n",
    "\n",
    "The `executableType` indicates what type of executable is used. VOTCA has different executable types based on the kind of calculation, is the calculaton based on an MD topology, does it need parallelization support etc. We will see the different types shortly.\n",
    "\n",
    "`whichCalculationToRun` indicates what should be done, a DFT-GWBSE calculation, a file conversion etc. Finally the `optionsFile` is the file with all the input options. \n",
    "\n",
    "Lets look at the `log2mps_water.xml` option file\n",
    "\n",
    "```xml\n",
    "<options>\n",
    "\t<log2mps>\n",
    "\t\t<dftpackage>orca</dftpackage>\n",
    "\t\t<input>DFT_ORCA/water/chelpg.log</input>\n",
    "\t\t<output>MP_FILES/water_n.mps</output>\n",
    "\t</log2mps>\n",
    "</options>\n",
    "```\n",
    "\n",
    "We see that there are three options to set. The input file (which is the orca output log in this case), the name of the output file and which DFT package was used to do the calculation.\n",
    "\n",
    "### How to find out which options are available?\n",
    "\n",
    "There are two ways to find out which options are available for a tool. Every tool has its own description, you can get it for the `log2mps` tool by running the following command (where `-d` means describe)."
   ]
  },
  {
   "cell_type": "code",
   "execution_count": 7,
   "id": "1e56653a",
   "metadata": {},
   "outputs": [
    {
     "name": "stdout",
     "output_type": "stream",
     "text": [
      " \u001b[0;35mlog2mps:   \u001b[0;31mGenerates an mps-file (with polar-site definitions) from a QM log-file\u001b[0;39m\r\n",
      "   OPTION      \u001b[0;34mDEFAULT\u001b[0;32m    UNIT           \u001b[0;39mDESCRIPTION\r\n",
      "   job_name    \u001b[0;34m(system)\u001b[0;32m                  \u001b[0;39mInput file name without extension, also used for intermediate files\r\n",
      "   dftpackage  \u001b[0;34m(orca)\u001b[0;32m                    \u001b[0;39mQM package name\r\n",
      "   input       \u001b[0;34m(OPTIONAL)\u001b[0;32m                \u001b[0;39mdftpackage log file to read from, otherwise use job_name\r\n",
      "   output      \u001b[0;34m(OPTIONAL)\u001b[0;32m                \u001b[0;39mMPs file with charges, if not given use job_name\r\n",
      "Done - stopping here\r\n"
     ]
    }
   ],
   "source": [
    "!xtp_tools -d log2mps"
   ]
  },
  {
   "cell_type": "markdown",
   "id": "d158660e",
   "metadata": {},
   "source": [
    "Alternatively you can generate a starting xml file (with help messages) using `xtp_tools -p <tool_name> -o <output>.xml`, which you can manually edit to fit your needs. This file will contain all available options, mandatory and optional. For `log2mps` it can be generated and viewed with the following commands. Note that the result is much better when the option file is viewed in an editor with syntax highlighting (VS code for example)."
   ]
  },
  {
   "cell_type": "code",
   "execution_count": 9,
   "id": "84fef06a",
   "metadata": {},
   "outputs": [
    {
     "name": "stdout",
     "output_type": "stream",
     "text": [
      "Writing options for calculator log2mps to temp_log2mpsOptions.xml\n",
      "Done - stopping here\n",
      "**************\n",
      "<options>\n",
      "<log2mps help=\"Generates an mps-file (with polar-site definitions) from a QM log-file\" label=\"tool:log2mps\">\n",
      "\t<job_name default=\"system\" help=\"Input file name without extension, also used for intermediate files\">system</job_name>\n",
      "\t<dftpackage choices=\"orca\" default=\"orca\" help=\"QM package name\">orca</dftpackage>\n",
      "\t<input default=\"OPTIONAL\" help=\"dftpackage log file to read from, otherwise use job_name\"/>\n",
      "\t<output default=\"OPTIONAL\" help=\"MPs file with charges, if not given use job_name\"/>\n",
      "</log2mps>\n",
      "</options>\n",
      "\n"
     ]
    }
   ],
   "source": [
    "!xtp_tools -p log2mps -o temp_log2mpsOptions.xml\n",
    "!echo \"**************\"\n",
    "!cat temp_log2mpsOptions.xml"
   ]
  },
  {
   "cell_type": "markdown",
   "id": "3c08d695",
   "metadata": {},
   "source": [
    "### The result of `log2mps`\n",
    "\n",
    "The result of `log2mps` is an mps file, for water it will look like\n",
    "\n",
    "```text\n",
    "! GENERATED BY VOTCA::XTP::::LOG2MPS (log-file='../DFT_ORCA/water/chelpg.log' : 3 QM atoms)\n",
    "! N=3 Q[e]=+0.0000000\n",
    "Units angstrom\n",
    "  O +0.0000000 +0.0000000 -0.0043320 Rank 0\n",
    "    -0.7585550\n",
    "     P +0.8370000\n",
    "  H +0.7614610 +0.0000000 +0.5795250 Rank 0\n",
    "    +0.3787500\n",
    "     P +0.4960000\n",
    "  H -0.7614610 +0.0000000 +0.5795250 Rank 0\n",
    "    +0.3798050\n",
    "     P +0.4960000\n",
    "```\n",
    "\n",
    "We see the atom positions, followed by their partial charge (rank 0, for higher ranks dipoles and quadrupoles are also specified) and the line with the `P` indicating the polarizability. But something is off with the polarizability it is just a single number. \n",
    "\n",
    "### 3. Fitting Polarizabilities\n",
    "To obtain the \"real\" polarizability we will fit the atomic polarizabilities, such that they represent the total molecular polarizability (computed with ORCA in this case) as close as possible. This is done with the `molpol` tool. Lets run the tool."
   ]
  },
  {
   "cell_type": "code",
   "execution_count": 18,
   "id": "f3763b8a",
   "metadata": {},
   "outputs": [
    {
     "name": "stdout",
     "output_type": "stream",
     "text": [
      "==================================================\r\n",
      "========   VOTCA (http://www.votca.org)   ========\r\n",
      "==================================================\r\n",
      "\r\n",
      "please submit bugs to https://github.com/votca/xtp/issues\r\n",
      "\r\n",
      "xtp_tools, version 2022-dev gitid: 24decaf (dirty) (compiled Jul 15 2021, 09:04:09)\r\n",
      "votca_csg, version 2022-dev gitid: 24decaf (dirty) (compiled Jul 15 2021, 08:59:16)\r\n",
      "votca_tools, version 2022-dev gitid: 24decaf (dirty) (compiled Jul 15 2021, 08:58:17)\r\n",
      "\r\n",
      "Initializing tool\r\n",
      "... molpol \r\n",
      " ... Using package <orca>\r\n",
      " ... Getting polarizabilityEvaluating tool\r\n",
      "... molpol  Using 1 threads\r\n",
      "Iteration 1 of 100 target:6.46783 current:9.41669\r\n",
      "\r\n",
      "Iteration 2 of 100 target:6.46783 current:6.89261\r\n",
      "\r\n",
      "Iteration 3 of 100 target:6.46783 current:6.54134\r\n",
      "\r\n",
      "Iteration 4 of 100 target:6.46783 current:6.48093\r\n",
      "\r\n",
      "Iteration 5 of 100 target:6.46783 current:6.47018\r\n",
      "\r\n",
      "Iteration 6 of 100 target:6.46783 current:6.46825\r\n",
      "\r\n",
      "... ... Iterative refinement : *CONVERGED*\r\n",
      "... ... Scaling coefficient  : -6.50073e-05\r\n",
      "First principle polarization [A^3]\r\n",
      " 1.18054        0        0\r\n",
      "       0 0.772045       -0\r\n",
      "       0       -0 0.965972\r\n",
      "Scaled classical polarization [A^3]\r\n",
      "     1.1578          -0          -0\r\n",
      "         -0    0.819334          -0\r\n",
      "-1.0327e-17          -0    0.928276\r\n",
      "EigenValues classical polarization [A^3]\r\n",
      "0.819334        0        0\r\n",
      "       0 0.928276        0\r\n",
      "       0        0   1.1578"
     ]
    }
   ],
   "source": [
    "!xtp_tools -e molpol -o OPTIONS/molpol_water.xml"
   ]
  },
  {
   "cell_type": "markdown",
   "id": "5da89d31",
   "metadata": {},
   "source": [
    "The options for this tool are the original mps file, the name of the new mps file, which package is used for the polarization calculation and where to find the logfile with the molecular polarizability information. The option file:\n",
    "```xml\n",
    "<options>\n",
    "\t<molpol>\n",
    "\t\t<input>MP_FILES/water_n.mps</input>\n",
    "\t\t<output>MP_FILES/water_n_pol.mps</output>\n",
    "\t\t<mode>qmpackage</mode>\n",
    "\t\t<qmpackage>orca</qmpackage>\n",
    "\t\t<logfile>DFT_ORCA/water/chelpg.log</logfile>\n",
    "\t</molpol>\n",
    "</options>\n",
    "```\n",
    "\n",
    "If you check the output file now, you will see that it added atomic polarizabilities."
   ]
  },
  {
   "cell_type": "code",
   "execution_count": 24,
   "id": "33c103be",
   "metadata": {},
   "outputs": [
    {
     "name": "stdout",
     "output_type": "stream",
     "text": [
      "! GENERATED BY VOTCA::XTP::MOLPOL (OPTIMIZED)\r\n",
      "! N=3 Q[e]=+0.0000000\r\n",
      "Units angstrom\r\n",
      "  O +0.0000000 +0.0000000 -0.0043320 Rank 0\r\n",
      "    -0.7585550\r\n",
      "     P +0.5320935 +0.0000000 +0.0000000 +0.5320935 +0.0000000 +0.5320935\r\n",
      "  H +0.7614610 +0.0000000 +0.5795250 Rank 0\r\n",
      "    +0.3787500\r\n",
      "     P +0.3153146 +0.0000000 +0.0000000 +0.3153146 +0.0000000 +0.3153146\r\n",
      "  H -0.7614610 +0.0000000 +0.5795250 Rank 0\r\n",
      "    +0.3798050\r\n",
      "     P +0.3153146 +0.0000000 +0.0000000 +0.3153146 +0.0000000 +0.3153146\r\n"
     ]
    }
   ],
   "source": [
    "!cat MP_FILES/water_n_pol.mps"
   ]
  },
  {
   "cell_type": "markdown",
   "id": "37d7c4c1",
   "metadata": {},
   "source": [
    "### Repeating the process for other molecules\n",
    "\n",
    "This process needs to be repeated for all molecules in the system. Generating the files for acetone for example can be done by running the following"
   ]
  },
  {
   "cell_type": "code",
   "execution_count": 23,
   "id": "fc69e72b",
   "metadata": {},
   "outputs": [
    {
     "name": "stdout",
     "output_type": "stream",
     "text": [
      "==================================================\n",
      "========   VOTCA (http://www.votca.org)   ========\n",
      "==================================================\n",
      "\n",
      "please submit bugs to https://github.com/votca/xtp/issues\n",
      "\n",
      "xtp_tools, version 2022-dev gitid: 24decaf (dirty) (compiled Jul 15 2021, 09:04:09)\n",
      "votca_csg, version 2022-dev gitid: 24decaf (dirty) (compiled Jul 15 2021, 08:59:16)\n",
      "votca_tools, version 2022-dev gitid: 24decaf (dirty) (compiled Jul 15 2021, 08:58:17)\n",
      "\n",
      "Initializing tool\n",
      "... log2mps \n",
      "... ... DFT_ORCA/acetone/chelpg.log => MP_FILES/acetone_n.mps\n",
      "Evaluating tool\n",
      "... log2mps  Using 1 threads\n",
      "... ... Using package <orca>\n",
      "... ... Parsing DFT_ORCA/acetone/chelpg.log\n",
      "... ... Getting the coordinates\n",
      "... ... Getting charges\n",
      "... ... Getting charges\n",
      "... ... 10 QM atoms, total charge Q = 1e-06 \n",
      "==================================================\n",
      "========   VOTCA (http://www.votca.org)   ========\n",
      "==================================================\n",
      "\n",
      "please submit bugs to https://github.com/votca/xtp/issues\n",
      "\n",
      "xtp_tools, version 2022-dev gitid: 24decaf (dirty) (compiled Jul 15 2021, 09:04:09)\n",
      "votca_csg, version 2022-dev gitid: 24decaf (dirty) (compiled Jul 15 2021, 08:59:16)\n",
      "votca_tools, version 2022-dev gitid: 24decaf (dirty) (compiled Jul 15 2021, 08:58:17)\n",
      "\n",
      "Initializing tool\n",
      "... molpol \n",
      " ... Using package <orca>\n",
      " ... Getting polarizabilityEvaluating tool\n",
      "... molpol  Using 1 threads\n",
      "Iteration 1 of 100 target:39.0864 current:39.8784\n",
      "\n",
      "Iteration 2 of 100 target:39.0864 current:39.2629\n",
      "\n",
      "Iteration 3 of 100 target:39.0864 current:39.126\n",
      "\n",
      "Iteration 4 of 100 target:39.0864 current:39.0953\n",
      "\n",
      "Iteration 5 of 100 target:39.0864 current:39.0884\n",
      "\n",
      "... ... Iterative refinement : *CONVERGED*\n",
      "... ... Scaling coefficient  : -5.10709e-05\n",
      "First principle polarization [A^3]\n",
      "  5.75433  0.843616  0.267156\n",
      " 0.843616   5.56017 -0.242733\n",
      " 0.267156 -0.242733   6.23821\n",
      "Scaled classical polarization [A^3]\n",
      "   5.5262  0.454485  0.164229\n",
      " 0.454485   5.46775 -0.320004\n",
      " 0.164229 -0.320004   6.50124\n",
      "EigenValues classical polarization [A^3]\n",
      "4.96331       0       0\n",
      "      0 5.93829       0\n",
      "      0       0 6.59359"
     ]
    }
   ],
   "source": [
    "!xtp_tools -e log2mps -o OPTIONS/log2mps_acetone.xml\n",
    "!echo \" \" # we only need it to clearly separate the two commands\n",
    "!xtp_tools -e molpol -o OPTIONS/molpol_acetone.xml"
   ]
  },
  {
   "cell_type": "markdown",
   "id": "3e92433e",
   "metadata": {},
   "source": [
    "## Putting everything together"
   ]
  },
  {
   "cell_type": "markdown",
   "id": "f0031e81",
   "metadata": {},
   "source": [
    "Now that we have all the input files we need to combine them with the snap shot of the MD trajectory. This is done in the mapping procedure. For this mapping we need to create an input file, the *mapping file*. This file tells VOTCA how to map the multipole data or the groundstate geometry to the MD trajectory. The file itself looks quite complicated so we start by looking only at a small part that will give us the main idea.\n",
    "\n",
    "Suppose we want to map the ground state geometry of water \n",
    "\n",
    "```xml\n",
    "<mdatoms>2:O76:10 2:H77:11 2:H77:12</mdatoms>\n",
    "<qmatoms>0:O 1:H 2:H</qmatoms>\n",
    "<localframe>0 1 2</localframe>\n",
    "\n",
    "```\n",
    "\n",
    "In the xml lines above "
   ]
  },
  {
   "cell_type": "code",
   "execution_count": null,
   "id": "cbab0afd",
   "metadata": {},
   "outputs": [],
   "source": []
  },
  {
   "cell_type": "code",
   "execution_count": null,
   "id": "fbc19756",
   "metadata": {},
   "outputs": [],
   "source": []
  }
 ],
 "metadata": {
  "kernelspec": {
   "display_name": "Python 3 (ipykernel)",
   "language": "python",
   "name": "python3"
  },
  "language_info": {
   "codemirror_mode": {
    "name": "ipython",
    "version": 3
   },
   "file_extension": ".py",
   "mimetype": "text/x-python",
   "name": "python",
   "nbconvert_exporter": "python",
   "pygments_lexer": "ipython3",
   "version": "3.8.10"
  }
 },
 "nbformat": 4,
 "nbformat_minor": 5
}
